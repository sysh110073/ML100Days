{
 "cells": [
  {
   "cell_type": "code",
   "execution_count": null,
   "metadata": {},
   "outputs": [],
   "source": [
    "from IPython.display import Image\n",
    "Image(filename = \"\")"
   ]
  },
  {
   "cell_type": "code",
   "execution_count": 1,
   "metadata": {},
   "outputs": [
    {
     "data": {
      "text/html": [
       "<div>\n",
       "<style scoped>\n",
       "    .dataframe tbody tr th:only-of-type {\n",
       "        vertical-align: middle;\n",
       "    }\n",
       "\n",
       "    .dataframe tbody tr th {\n",
       "        vertical-align: top;\n",
       "    }\n",
       "\n",
       "    .dataframe thead th {\n",
       "        text-align: right;\n",
       "    }\n",
       "</style>\n",
       "<table border=\"1\" class=\"dataframe\">\n",
       "  <thead>\n",
       "    <tr style=\"text-align: right;\">\n",
       "      <th></th>\n",
       "      <th>bonus</th>\n",
       "      <th>deferral_payments</th>\n",
       "      <th>deferred_income</th>\n",
       "      <th>director_fees</th>\n",
       "      <th>email_address</th>\n",
       "      <th>exercised_stock_options</th>\n",
       "      <th>expenses</th>\n",
       "      <th>from_messages</th>\n",
       "      <th>from_poi_to_this_person</th>\n",
       "      <th>from_this_person_to_poi</th>\n",
       "      <th>loan_advances</th>\n",
       "      <th>long_term_incentive</th>\n",
       "      <th>other</th>\n",
       "      <th>restricted_stock</th>\n",
       "      <th>restricted_stock_deferred</th>\n",
       "      <th>salary</th>\n",
       "      <th>shared_receipt_with_poi</th>\n",
       "      <th>to_messages</th>\n",
       "      <th>total_payments</th>\n",
       "      <th>total_stock_value</th>\n",
       "    </tr>\n",
       "  </thead>\n",
       "  <tbody>\n",
       "    <tr>\n",
       "      <th>0</th>\n",
       "      <td>1750000.0</td>\n",
       "      <td>NaN</td>\n",
       "      <td>-3504386.0</td>\n",
       "      <td>NaN</td>\n",
       "      <td>ken.rice@enron.com</td>\n",
       "      <td>19794175.0</td>\n",
       "      <td>46950.0</td>\n",
       "      <td>18.0</td>\n",
       "      <td>42.0</td>\n",
       "      <td>4.0</td>\n",
       "      <td>NaN</td>\n",
       "      <td>1617011.0</td>\n",
       "      <td>174839.0</td>\n",
       "      <td>2748364.0</td>\n",
       "      <td>NaN</td>\n",
       "      <td>420636.0</td>\n",
       "      <td>864.0</td>\n",
       "      <td>905.0</td>\n",
       "      <td>505050.0</td>\n",
       "      <td>22542539.0</td>\n",
       "    </tr>\n",
       "    <tr>\n",
       "      <th>1</th>\n",
       "      <td>5600000.0</td>\n",
       "      <td>NaN</td>\n",
       "      <td>NaN</td>\n",
       "      <td>NaN</td>\n",
       "      <td>jeff.skilling@enron.com</td>\n",
       "      <td>19250000.0</td>\n",
       "      <td>29336.0</td>\n",
       "      <td>108.0</td>\n",
       "      <td>88.0</td>\n",
       "      <td>30.0</td>\n",
       "      <td>NaN</td>\n",
       "      <td>1920000.0</td>\n",
       "      <td>22122.0</td>\n",
       "      <td>6843672.0</td>\n",
       "      <td>NaN</td>\n",
       "      <td>1111258.0</td>\n",
       "      <td>2042.0</td>\n",
       "      <td>3627.0</td>\n",
       "      <td>8682716.0</td>\n",
       "      <td>26093672.0</td>\n",
       "    </tr>\n",
       "    <tr>\n",
       "      <th>2</th>\n",
       "      <td>200000.0</td>\n",
       "      <td>NaN</td>\n",
       "      <td>-4167.0</td>\n",
       "      <td>NaN</td>\n",
       "      <td>rex.shelby@enron.com</td>\n",
       "      <td>1624396.0</td>\n",
       "      <td>22884.0</td>\n",
       "      <td>39.0</td>\n",
       "      <td>13.0</td>\n",
       "      <td>14.0</td>\n",
       "      <td>NaN</td>\n",
       "      <td>NaN</td>\n",
       "      <td>1573324.0</td>\n",
       "      <td>869220.0</td>\n",
       "      <td>NaN</td>\n",
       "      <td>211844.0</td>\n",
       "      <td>91.0</td>\n",
       "      <td>225.0</td>\n",
       "      <td>2003885.0</td>\n",
       "      <td>2493616.0</td>\n",
       "    </tr>\n",
       "    <tr>\n",
       "      <th>3</th>\n",
       "      <td>800000.0</td>\n",
       "      <td>NaN</td>\n",
       "      <td>NaN</td>\n",
       "      <td>NaN</td>\n",
       "      <td>michael.kopper@enron.com</td>\n",
       "      <td>NaN</td>\n",
       "      <td>118134.0</td>\n",
       "      <td>NaN</td>\n",
       "      <td>NaN</td>\n",
       "      <td>NaN</td>\n",
       "      <td>NaN</td>\n",
       "      <td>602671.0</td>\n",
       "      <td>907502.0</td>\n",
       "      <td>985032.0</td>\n",
       "      <td>NaN</td>\n",
       "      <td>224305.0</td>\n",
       "      <td>NaN</td>\n",
       "      <td>NaN</td>\n",
       "      <td>2652612.0</td>\n",
       "      <td>985032.0</td>\n",
       "    </tr>\n",
       "    <tr>\n",
       "      <th>4</th>\n",
       "      <td>1250000.0</td>\n",
       "      <td>NaN</td>\n",
       "      <td>-262500.0</td>\n",
       "      <td>NaN</td>\n",
       "      <td>christopher.calger@enron.com</td>\n",
       "      <td>NaN</td>\n",
       "      <td>35818.0</td>\n",
       "      <td>144.0</td>\n",
       "      <td>199.0</td>\n",
       "      <td>25.0</td>\n",
       "      <td>NaN</td>\n",
       "      <td>375304.0</td>\n",
       "      <td>486.0</td>\n",
       "      <td>126027.0</td>\n",
       "      <td>NaN</td>\n",
       "      <td>240189.0</td>\n",
       "      <td>2188.0</td>\n",
       "      <td>2598.0</td>\n",
       "      <td>1639297.0</td>\n",
       "      <td>126027.0</td>\n",
       "    </tr>\n",
       "    <tr>\n",
       "      <th>5</th>\n",
       "      <td>NaN</td>\n",
       "      <td>10259.0</td>\n",
       "      <td>NaN</td>\n",
       "      <td>NaN</td>\n",
       "      <td>joe.hirko@enron.com</td>\n",
       "      <td>30766064.0</td>\n",
       "      <td>77978.0</td>\n",
       "      <td>NaN</td>\n",
       "      <td>NaN</td>\n",
       "      <td>NaN</td>\n",
       "      <td>NaN</td>\n",
       "      <td>NaN</td>\n",
       "      <td>2856.0</td>\n",
       "      <td>NaN</td>\n",
       "      <td>NaN</td>\n",
       "      <td>NaN</td>\n",
       "      <td>NaN</td>\n",
       "      <td>NaN</td>\n",
       "      <td>91093.0</td>\n",
       "      <td>30766064.0</td>\n",
       "    </tr>\n",
       "    <tr>\n",
       "      <th>6</th>\n",
       "      <td>NaN</td>\n",
       "      <td>NaN</td>\n",
       "      <td>NaN</td>\n",
       "      <td>NaN</td>\n",
       "      <td>scott.yeager@enron.com</td>\n",
       "      <td>8308552.0</td>\n",
       "      <td>53947.0</td>\n",
       "      <td>NaN</td>\n",
       "      <td>NaN</td>\n",
       "      <td>NaN</td>\n",
       "      <td>NaN</td>\n",
       "      <td>NaN</td>\n",
       "      <td>147950.0</td>\n",
       "      <td>3576206.0</td>\n",
       "      <td>NaN</td>\n",
       "      <td>158403.0</td>\n",
       "      <td>NaN</td>\n",
       "      <td>NaN</td>\n",
       "      <td>360300.0</td>\n",
       "      <td>11884758.0</td>\n",
       "    </tr>\n",
       "    <tr>\n",
       "      <th>7</th>\n",
       "      <td>1200000.0</td>\n",
       "      <td>27610.0</td>\n",
       "      <td>-144062.0</td>\n",
       "      <td>NaN</td>\n",
       "      <td>wes.colwell@enron.com</td>\n",
       "      <td>NaN</td>\n",
       "      <td>16514.0</td>\n",
       "      <td>40.0</td>\n",
       "      <td>240.0</td>\n",
       "      <td>11.0</td>\n",
       "      <td>NaN</td>\n",
       "      <td>NaN</td>\n",
       "      <td>101740.0</td>\n",
       "      <td>698242.0</td>\n",
       "      <td>NaN</td>\n",
       "      <td>288542.0</td>\n",
       "      <td>1132.0</td>\n",
       "      <td>1758.0</td>\n",
       "      <td>1490344.0</td>\n",
       "      <td>698242.0</td>\n",
       "    </tr>\n",
       "    <tr>\n",
       "      <th>8</th>\n",
       "      <td>7000000.0</td>\n",
       "      <td>202911.0</td>\n",
       "      <td>-300000.0</td>\n",
       "      <td>NaN</td>\n",
       "      <td>kenneth.lay@enron.com</td>\n",
       "      <td>34348384.0</td>\n",
       "      <td>99832.0</td>\n",
       "      <td>36.0</td>\n",
       "      <td>123.0</td>\n",
       "      <td>16.0</td>\n",
       "      <td>81525000.0</td>\n",
       "      <td>3600000.0</td>\n",
       "      <td>10359729.0</td>\n",
       "      <td>14761694.0</td>\n",
       "      <td>NaN</td>\n",
       "      <td>1072321.0</td>\n",
       "      <td>2411.0</td>\n",
       "      <td>4273.0</td>\n",
       "      <td>103559793.0</td>\n",
       "      <td>49110078.0</td>\n",
       "    </tr>\n",
       "    <tr>\n",
       "      <th>9</th>\n",
       "      <td>600000.0</td>\n",
       "      <td>NaN</td>\n",
       "      <td>NaN</td>\n",
       "      <td>NaN</td>\n",
       "      <td>ben.glisan@enron.com</td>\n",
       "      <td>384728.0</td>\n",
       "      <td>125978.0</td>\n",
       "      <td>16.0</td>\n",
       "      <td>52.0</td>\n",
       "      <td>6.0</td>\n",
       "      <td>NaN</td>\n",
       "      <td>71023.0</td>\n",
       "      <td>200308.0</td>\n",
       "      <td>393818.0</td>\n",
       "      <td>NaN</td>\n",
       "      <td>274975.0</td>\n",
       "      <td>874.0</td>\n",
       "      <td>873.0</td>\n",
       "      <td>1272284.0</td>\n",
       "      <td>778546.0</td>\n",
       "    </tr>\n",
       "  </tbody>\n",
       "</table>\n",
       "</div>"
      ],
      "text/plain": [
       "       bonus  deferral_payments  deferred_income  director_fees  \\\n",
       "0  1750000.0                NaN       -3504386.0            NaN   \n",
       "1  5600000.0                NaN              NaN            NaN   \n",
       "2   200000.0                NaN          -4167.0            NaN   \n",
       "3   800000.0                NaN              NaN            NaN   \n",
       "4  1250000.0                NaN        -262500.0            NaN   \n",
       "5        NaN            10259.0              NaN            NaN   \n",
       "6        NaN                NaN              NaN            NaN   \n",
       "7  1200000.0            27610.0        -144062.0            NaN   \n",
       "8  7000000.0           202911.0        -300000.0            NaN   \n",
       "9   600000.0                NaN              NaN            NaN   \n",
       "\n",
       "                  email_address  exercised_stock_options  expenses  \\\n",
       "0            ken.rice@enron.com               19794175.0   46950.0   \n",
       "1       jeff.skilling@enron.com               19250000.0   29336.0   \n",
       "2          rex.shelby@enron.com                1624396.0   22884.0   \n",
       "3      michael.kopper@enron.com                      NaN  118134.0   \n",
       "4  christopher.calger@enron.com                      NaN   35818.0   \n",
       "5           joe.hirko@enron.com               30766064.0   77978.0   \n",
       "6        scott.yeager@enron.com                8308552.0   53947.0   \n",
       "7         wes.colwell@enron.com                      NaN   16514.0   \n",
       "8         kenneth.lay@enron.com               34348384.0   99832.0   \n",
       "9          ben.glisan@enron.com                 384728.0  125978.0   \n",
       "\n",
       "   from_messages  from_poi_to_this_person  from_this_person_to_poi  \\\n",
       "0           18.0                     42.0                      4.0   \n",
       "1          108.0                     88.0                     30.0   \n",
       "2           39.0                     13.0                     14.0   \n",
       "3            NaN                      NaN                      NaN   \n",
       "4          144.0                    199.0                     25.0   \n",
       "5            NaN                      NaN                      NaN   \n",
       "6            NaN                      NaN                      NaN   \n",
       "7           40.0                    240.0                     11.0   \n",
       "8           36.0                    123.0                     16.0   \n",
       "9           16.0                     52.0                      6.0   \n",
       "\n",
       "   loan_advances  long_term_incentive       other  restricted_stock  \\\n",
       "0            NaN            1617011.0    174839.0         2748364.0   \n",
       "1            NaN            1920000.0     22122.0         6843672.0   \n",
       "2            NaN                  NaN   1573324.0          869220.0   \n",
       "3            NaN             602671.0    907502.0          985032.0   \n",
       "4            NaN             375304.0       486.0          126027.0   \n",
       "5            NaN                  NaN      2856.0               NaN   \n",
       "6            NaN                  NaN    147950.0         3576206.0   \n",
       "7            NaN                  NaN    101740.0          698242.0   \n",
       "8     81525000.0            3600000.0  10359729.0        14761694.0   \n",
       "9            NaN              71023.0    200308.0          393818.0   \n",
       "\n",
       "   restricted_stock_deferred     salary  shared_receipt_with_poi  to_messages  \\\n",
       "0                        NaN   420636.0                    864.0        905.0   \n",
       "1                        NaN  1111258.0                   2042.0       3627.0   \n",
       "2                        NaN   211844.0                     91.0        225.0   \n",
       "3                        NaN   224305.0                      NaN          NaN   \n",
       "4                        NaN   240189.0                   2188.0       2598.0   \n",
       "5                        NaN        NaN                      NaN          NaN   \n",
       "6                        NaN   158403.0                      NaN          NaN   \n",
       "7                        NaN   288542.0                   1132.0       1758.0   \n",
       "8                        NaN  1072321.0                   2411.0       4273.0   \n",
       "9                        NaN   274975.0                    874.0        873.0   \n",
       "\n",
       "   total_payments  total_stock_value  \n",
       "0        505050.0         22542539.0  \n",
       "1       8682716.0         26093672.0  \n",
       "2       2003885.0          2493616.0  \n",
       "3       2652612.0           985032.0  \n",
       "4       1639297.0           126027.0  \n",
       "5         91093.0         30766064.0  \n",
       "6        360300.0         11884758.0  \n",
       "7       1490344.0           698242.0  \n",
       "8     103559793.0         49110078.0  \n",
       "9       1272284.0           778546.0  "
      ]
     },
     "execution_count": 1,
     "metadata": {},
     "output_type": "execute_result"
    }
   ],
   "source": [
    "import pandas as pd\n",
    "import numpy as np\n",
    "from IPython.display import display\n",
    "data_path = \"C:\\\\Users\\\\huang\\\\Desktop\\\\機器學習馬拉松\\\\D51_D53_Kaggle期中考_考ML與調參相關\\\\\"\n",
    "\n",
    "df_train = pd.read_csv(data_path + \"train_data.csv\")\n",
    "df_test = pd.read_csv(data_path + \"test_features.csv\")\n",
    "\n",
    "train_Y = df_train[\"poi\"]\n",
    "ids = df_test[\"name\"]\n",
    "df_train = df_train.drop([\"name\",\"poi\"], axis = 1)\n",
    "df_test = df_test.drop([\"name\"], axis = 1)\n",
    "\n",
    "df = pd.concat([df_train, df_test])\n",
    "\n",
    "df.head(10)"
   ]
  },
  {
   "cell_type": "code",
   "execution_count": 2,
   "metadata": {},
   "outputs": [
    {
     "data": {
      "text/plain": [
       "(146, 20)"
      ]
     },
     "execution_count": 2,
     "metadata": {},
     "output_type": "execute_result"
    }
   ],
   "source": [
    "df.shape"
   ]
  },
  {
   "cell_type": "code",
   "execution_count": 3,
   "metadata": {
    "scrolled": true
   },
   "outputs": [
    {
     "data": {
      "text/html": [
       "<div>\n",
       "<style scoped>\n",
       "    .dataframe tbody tr th:only-of-type {\n",
       "        vertical-align: middle;\n",
       "    }\n",
       "\n",
       "    .dataframe tbody tr th {\n",
       "        vertical-align: top;\n",
       "    }\n",
       "\n",
       "    .dataframe thead th {\n",
       "        text-align: right;\n",
       "    }\n",
       "</style>\n",
       "<table border=\"1\" class=\"dataframe\">\n",
       "  <thead>\n",
       "    <tr style=\"text-align: right;\">\n",
       "      <th></th>\n",
       "      <th>Missing Ratio</th>\n",
       "    </tr>\n",
       "  </thead>\n",
       "  <tbody>\n",
       "    <tr>\n",
       "      <th>loan_advances</th>\n",
       "      <td>97.260274</td>\n",
       "    </tr>\n",
       "    <tr>\n",
       "      <th>director_fees</th>\n",
       "      <td>88.356164</td>\n",
       "    </tr>\n",
       "    <tr>\n",
       "      <th>restricted_stock_deferred</th>\n",
       "      <td>87.671233</td>\n",
       "    </tr>\n",
       "    <tr>\n",
       "      <th>deferral_payments</th>\n",
       "      <td>73.287671</td>\n",
       "    </tr>\n",
       "    <tr>\n",
       "      <th>deferred_income</th>\n",
       "      <td>66.438356</td>\n",
       "    </tr>\n",
       "    <tr>\n",
       "      <th>long_term_incentive</th>\n",
       "      <td>54.794521</td>\n",
       "    </tr>\n",
       "    <tr>\n",
       "      <th>bonus</th>\n",
       "      <td>43.835616</td>\n",
       "    </tr>\n",
       "    <tr>\n",
       "      <th>from_messages</th>\n",
       "      <td>41.095890</td>\n",
       "    </tr>\n",
       "    <tr>\n",
       "      <th>from_poi_to_this_person</th>\n",
       "      <td>41.095890</td>\n",
       "    </tr>\n",
       "    <tr>\n",
       "      <th>from_this_person_to_poi</th>\n",
       "      <td>41.095890</td>\n",
       "    </tr>\n",
       "    <tr>\n",
       "      <th>shared_receipt_with_poi</th>\n",
       "      <td>41.095890</td>\n",
       "    </tr>\n",
       "    <tr>\n",
       "      <th>to_messages</th>\n",
       "      <td>41.095890</td>\n",
       "    </tr>\n",
       "    <tr>\n",
       "      <th>other</th>\n",
       "      <td>36.301370</td>\n",
       "    </tr>\n",
       "    <tr>\n",
       "      <th>expenses</th>\n",
       "      <td>34.931507</td>\n",
       "    </tr>\n",
       "    <tr>\n",
       "      <th>salary</th>\n",
       "      <td>34.931507</td>\n",
       "    </tr>\n",
       "    <tr>\n",
       "      <th>exercised_stock_options</th>\n",
       "      <td>30.136986</td>\n",
       "    </tr>\n",
       "    <tr>\n",
       "      <th>restricted_stock</th>\n",
       "      <td>24.657534</td>\n",
       "    </tr>\n",
       "    <tr>\n",
       "      <th>email_address</th>\n",
       "      <td>23.972603</td>\n",
       "    </tr>\n",
       "    <tr>\n",
       "      <th>total_payments</th>\n",
       "      <td>14.383562</td>\n",
       "    </tr>\n",
       "    <tr>\n",
       "      <th>total_stock_value</th>\n",
       "      <td>13.698630</td>\n",
       "    </tr>\n",
       "  </tbody>\n",
       "</table>\n",
       "</div>"
      ],
      "text/plain": [
       "                           Missing Ratio\n",
       "loan_advances                  97.260274\n",
       "director_fees                  88.356164\n",
       "restricted_stock_deferred      87.671233\n",
       "deferral_payments              73.287671\n",
       "deferred_income                66.438356\n",
       "long_term_incentive            54.794521\n",
       "bonus                          43.835616\n",
       "from_messages                  41.095890\n",
       "from_poi_to_this_person        41.095890\n",
       "from_this_person_to_poi        41.095890\n",
       "shared_receipt_with_poi        41.095890\n",
       "to_messages                    41.095890\n",
       "other                          36.301370\n",
       "expenses                       34.931507\n",
       "salary                         34.931507\n",
       "exercised_stock_options        30.136986\n",
       "restricted_stock               24.657534\n",
       "email_address                  23.972603\n",
       "total_payments                 14.383562\n",
       "total_stock_value              13.698630"
      ]
     },
     "metadata": {},
     "output_type": "display_data"
    }
   ],
   "source": [
    "#先檢查空值\n",
    "def na_check(df_data):\n",
    "    data_na = (df_data.isnull().sum() / len(df_data)) *100\n",
    "    data_na = data_na.drop(data_na[data_na == 0 ].index).sort_values(ascending = False)\n",
    "    missing_data = pd.DataFrame({\"Missing Ratio\" : data_na})\n",
    "    display(missing_data)\n",
    "na_check(df)"
   ]
  },
  {
   "cell_type": "code",
   "execution_count": 4,
   "metadata": {},
   "outputs": [
    {
     "data": {
      "text/html": [
       "<div>\n",
       "<style scoped>\n",
       "    .dataframe tbody tr th:only-of-type {\n",
       "        vertical-align: middle;\n",
       "    }\n",
       "\n",
       "    .dataframe tbody tr th {\n",
       "        vertical-align: top;\n",
       "    }\n",
       "\n",
       "    .dataframe thead th {\n",
       "        text-align: right;\n",
       "    }\n",
       "</style>\n",
       "<table border=\"1\" class=\"dataframe\">\n",
       "  <thead>\n",
       "    <tr style=\"text-align: right;\">\n",
       "      <th></th>\n",
       "      <th>bonus</th>\n",
       "      <th>deferral_payments</th>\n",
       "      <th>deferred_income</th>\n",
       "      <th>director_fees</th>\n",
       "      <th>email_address</th>\n",
       "      <th>exercised_stock_options</th>\n",
       "      <th>expenses</th>\n",
       "      <th>from_messages</th>\n",
       "      <th>from_poi_to_this_person</th>\n",
       "      <th>from_this_person_to_poi</th>\n",
       "      <th>loan_advances</th>\n",
       "      <th>long_term_incentive</th>\n",
       "      <th>other</th>\n",
       "      <th>restricted_stock</th>\n",
       "      <th>restricted_stock_deferred</th>\n",
       "      <th>salary</th>\n",
       "      <th>shared_receipt_with_poi</th>\n",
       "      <th>to_messages</th>\n",
       "      <th>total_payments</th>\n",
       "      <th>total_stock_value</th>\n",
       "    </tr>\n",
       "  </thead>\n",
       "  <tbody>\n",
       "    <tr>\n",
       "      <th>0</th>\n",
       "      <td>1750000.0</td>\n",
       "      <td>0.0</td>\n",
       "      <td>-3504386.0</td>\n",
       "      <td>0.0</td>\n",
       "      <td>ken.rice@enron.com</td>\n",
       "      <td>19794175.0</td>\n",
       "      <td>46950.0</td>\n",
       "      <td>18.0</td>\n",
       "      <td>42.0</td>\n",
       "      <td>4.0</td>\n",
       "      <td>0.0</td>\n",
       "      <td>1617011.0</td>\n",
       "      <td>174839.0</td>\n",
       "      <td>2748364.0</td>\n",
       "      <td>0.0</td>\n",
       "      <td>420636.0</td>\n",
       "      <td>864.0</td>\n",
       "      <td>905.0</td>\n",
       "      <td>505050.0</td>\n",
       "      <td>22542539.0</td>\n",
       "    </tr>\n",
       "    <tr>\n",
       "      <th>1</th>\n",
       "      <td>5600000.0</td>\n",
       "      <td>0.0</td>\n",
       "      <td>0.0</td>\n",
       "      <td>0.0</td>\n",
       "      <td>jeff.skilling@enron.com</td>\n",
       "      <td>19250000.0</td>\n",
       "      <td>29336.0</td>\n",
       "      <td>108.0</td>\n",
       "      <td>88.0</td>\n",
       "      <td>30.0</td>\n",
       "      <td>0.0</td>\n",
       "      <td>1920000.0</td>\n",
       "      <td>22122.0</td>\n",
       "      <td>6843672.0</td>\n",
       "      <td>0.0</td>\n",
       "      <td>1111258.0</td>\n",
       "      <td>2042.0</td>\n",
       "      <td>3627.0</td>\n",
       "      <td>8682716.0</td>\n",
       "      <td>26093672.0</td>\n",
       "    </tr>\n",
       "    <tr>\n",
       "      <th>2</th>\n",
       "      <td>200000.0</td>\n",
       "      <td>0.0</td>\n",
       "      <td>-4167.0</td>\n",
       "      <td>0.0</td>\n",
       "      <td>rex.shelby@enron.com</td>\n",
       "      <td>1624396.0</td>\n",
       "      <td>22884.0</td>\n",
       "      <td>39.0</td>\n",
       "      <td>13.0</td>\n",
       "      <td>14.0</td>\n",
       "      <td>0.0</td>\n",
       "      <td>0.0</td>\n",
       "      <td>1573324.0</td>\n",
       "      <td>869220.0</td>\n",
       "      <td>0.0</td>\n",
       "      <td>211844.0</td>\n",
       "      <td>91.0</td>\n",
       "      <td>225.0</td>\n",
       "      <td>2003885.0</td>\n",
       "      <td>2493616.0</td>\n",
       "    </tr>\n",
       "    <tr>\n",
       "      <th>3</th>\n",
       "      <td>800000.0</td>\n",
       "      <td>0.0</td>\n",
       "      <td>0.0</td>\n",
       "      <td>0.0</td>\n",
       "      <td>michael.kopper@enron.com</td>\n",
       "      <td>0.0</td>\n",
       "      <td>118134.0</td>\n",
       "      <td>0.0</td>\n",
       "      <td>0.0</td>\n",
       "      <td>0.0</td>\n",
       "      <td>0.0</td>\n",
       "      <td>602671.0</td>\n",
       "      <td>907502.0</td>\n",
       "      <td>985032.0</td>\n",
       "      <td>0.0</td>\n",
       "      <td>224305.0</td>\n",
       "      <td>0.0</td>\n",
       "      <td>0.0</td>\n",
       "      <td>2652612.0</td>\n",
       "      <td>985032.0</td>\n",
       "    </tr>\n",
       "    <tr>\n",
       "      <th>4</th>\n",
       "      <td>1250000.0</td>\n",
       "      <td>0.0</td>\n",
       "      <td>-262500.0</td>\n",
       "      <td>0.0</td>\n",
       "      <td>christopher.calger@enron.com</td>\n",
       "      <td>0.0</td>\n",
       "      <td>35818.0</td>\n",
       "      <td>144.0</td>\n",
       "      <td>199.0</td>\n",
       "      <td>25.0</td>\n",
       "      <td>0.0</td>\n",
       "      <td>375304.0</td>\n",
       "      <td>486.0</td>\n",
       "      <td>126027.0</td>\n",
       "      <td>0.0</td>\n",
       "      <td>240189.0</td>\n",
       "      <td>2188.0</td>\n",
       "      <td>2598.0</td>\n",
       "      <td>1639297.0</td>\n",
       "      <td>126027.0</td>\n",
       "    </tr>\n",
       "    <tr>\n",
       "      <th>...</th>\n",
       "      <td>...</td>\n",
       "      <td>...</td>\n",
       "      <td>...</td>\n",
       "      <td>...</td>\n",
       "      <td>...</td>\n",
       "      <td>...</td>\n",
       "      <td>...</td>\n",
       "      <td>...</td>\n",
       "      <td>...</td>\n",
       "      <td>...</td>\n",
       "      <td>...</td>\n",
       "      <td>...</td>\n",
       "      <td>...</td>\n",
       "      <td>...</td>\n",
       "      <td>...</td>\n",
       "      <td>...</td>\n",
       "      <td>...</td>\n",
       "      <td>...</td>\n",
       "      <td>...</td>\n",
       "      <td>...</td>\n",
       "    </tr>\n",
       "    <tr>\n",
       "      <th>95</th>\n",
       "      <td>0.0</td>\n",
       "      <td>0.0</td>\n",
       "      <td>-5104.0</td>\n",
       "      <td>0.0</td>\n",
       "      <td>james.bannantine@enron.com</td>\n",
       "      <td>4046157.0</td>\n",
       "      <td>56301.0</td>\n",
       "      <td>29.0</td>\n",
       "      <td>39.0</td>\n",
       "      <td>0.0</td>\n",
       "      <td>0.0</td>\n",
       "      <td>0.0</td>\n",
       "      <td>864523.0</td>\n",
       "      <td>1757552.0</td>\n",
       "      <td>-560222.0</td>\n",
       "      <td>477.0</td>\n",
       "      <td>465.0</td>\n",
       "      <td>566.0</td>\n",
       "      <td>916197.0</td>\n",
       "      <td>5243487.0</td>\n",
       "    </tr>\n",
       "    <tr>\n",
       "      <th>96</th>\n",
       "      <td>800000.0</td>\n",
       "      <td>0.0</td>\n",
       "      <td>-41250.0</td>\n",
       "      <td>0.0</td>\n",
       "      <td>chip.cox@enron.com</td>\n",
       "      <td>117551.0</td>\n",
       "      <td>27861.0</td>\n",
       "      <td>33.0</td>\n",
       "      <td>0.0</td>\n",
       "      <td>4.0</td>\n",
       "      <td>0.0</td>\n",
       "      <td>0.0</td>\n",
       "      <td>494.0</td>\n",
       "      <td>378082.0</td>\n",
       "      <td>0.0</td>\n",
       "      <td>314288.0</td>\n",
       "      <td>71.0</td>\n",
       "      <td>102.0</td>\n",
       "      <td>1101393.0</td>\n",
       "      <td>495633.0</td>\n",
       "    </tr>\n",
       "    <tr>\n",
       "      <th>97</th>\n",
       "      <td>600000.0</td>\n",
       "      <td>187469.0</td>\n",
       "      <td>0.0</td>\n",
       "      <td>0.0</td>\n",
       "      <td>vicki.sharp@enron.com</td>\n",
       "      <td>281073.0</td>\n",
       "      <td>116337.0</td>\n",
       "      <td>136.0</td>\n",
       "      <td>24.0</td>\n",
       "      <td>6.0</td>\n",
       "      <td>0.0</td>\n",
       "      <td>422158.0</td>\n",
       "      <td>2401.0</td>\n",
       "      <td>213063.0</td>\n",
       "      <td>0.0</td>\n",
       "      <td>248146.0</td>\n",
       "      <td>2477.0</td>\n",
       "      <td>3136.0</td>\n",
       "      <td>1576511.0</td>\n",
       "      <td>494136.0</td>\n",
       "    </tr>\n",
       "    <tr>\n",
       "      <th>98</th>\n",
       "      <td>0.0</td>\n",
       "      <td>0.0</td>\n",
       "      <td>-121284.0</td>\n",
       "      <td>125034.0</td>\n",
       "      <td>NaN</td>\n",
       "      <td>0.0</td>\n",
       "      <td>0.0</td>\n",
       "      <td>0.0</td>\n",
       "      <td>0.0</td>\n",
       "      <td>0.0</td>\n",
       "      <td>0.0</td>\n",
       "      <td>0.0</td>\n",
       "      <td>0.0</td>\n",
       "      <td>0.0</td>\n",
       "      <td>0.0</td>\n",
       "      <td>0.0</td>\n",
       "      <td>0.0</td>\n",
       "      <td>0.0</td>\n",
       "      <td>3750.0</td>\n",
       "      <td>0.0</td>\n",
       "    </tr>\n",
       "    <tr>\n",
       "      <th>99</th>\n",
       "      <td>0.0</td>\n",
       "      <td>774401.0</td>\n",
       "      <td>0.0</td>\n",
       "      <td>0.0</td>\n",
       "      <td>NaN</td>\n",
       "      <td>0.0</td>\n",
       "      <td>0.0</td>\n",
       "      <td>0.0</td>\n",
       "      <td>0.0</td>\n",
       "      <td>0.0</td>\n",
       "      <td>0.0</td>\n",
       "      <td>0.0</td>\n",
       "      <td>0.0</td>\n",
       "      <td>463261.0</td>\n",
       "      <td>-94556.0</td>\n",
       "      <td>0.0</td>\n",
       "      <td>0.0</td>\n",
       "      <td>0.0</td>\n",
       "      <td>774401.0</td>\n",
       "      <td>368705.0</td>\n",
       "    </tr>\n",
       "  </tbody>\n",
       "</table>\n",
       "<p>100 rows × 20 columns</p>\n",
       "</div>"
      ],
      "text/plain": [
       "        bonus  deferral_payments  deferred_income  director_fees  \\\n",
       "0   1750000.0                0.0       -3504386.0            0.0   \n",
       "1   5600000.0                0.0              0.0            0.0   \n",
       "2    200000.0                0.0          -4167.0            0.0   \n",
       "3    800000.0                0.0              0.0            0.0   \n",
       "4   1250000.0                0.0        -262500.0            0.0   \n",
       "..        ...                ...              ...            ...   \n",
       "95        0.0                0.0          -5104.0            0.0   \n",
       "96   800000.0                0.0         -41250.0            0.0   \n",
       "97   600000.0           187469.0              0.0            0.0   \n",
       "98        0.0                0.0        -121284.0       125034.0   \n",
       "99        0.0           774401.0              0.0            0.0   \n",
       "\n",
       "                   email_address  exercised_stock_options  expenses  \\\n",
       "0             ken.rice@enron.com               19794175.0   46950.0   \n",
       "1        jeff.skilling@enron.com               19250000.0   29336.0   \n",
       "2           rex.shelby@enron.com                1624396.0   22884.0   \n",
       "3       michael.kopper@enron.com                      0.0  118134.0   \n",
       "4   christopher.calger@enron.com                      0.0   35818.0   \n",
       "..                           ...                      ...       ...   \n",
       "95    james.bannantine@enron.com                4046157.0   56301.0   \n",
       "96            chip.cox@enron.com                 117551.0   27861.0   \n",
       "97         vicki.sharp@enron.com                 281073.0  116337.0   \n",
       "98                           NaN                      0.0       0.0   \n",
       "99                           NaN                      0.0       0.0   \n",
       "\n",
       "    from_messages  from_poi_to_this_person  from_this_person_to_poi  \\\n",
       "0            18.0                     42.0                      4.0   \n",
       "1           108.0                     88.0                     30.0   \n",
       "2            39.0                     13.0                     14.0   \n",
       "3             0.0                      0.0                      0.0   \n",
       "4           144.0                    199.0                     25.0   \n",
       "..            ...                      ...                      ...   \n",
       "95           29.0                     39.0                      0.0   \n",
       "96           33.0                      0.0                      4.0   \n",
       "97          136.0                     24.0                      6.0   \n",
       "98            0.0                      0.0                      0.0   \n",
       "99            0.0                      0.0                      0.0   \n",
       "\n",
       "    loan_advances  long_term_incentive      other  restricted_stock  \\\n",
       "0             0.0            1617011.0   174839.0         2748364.0   \n",
       "1             0.0            1920000.0    22122.0         6843672.0   \n",
       "2             0.0                  0.0  1573324.0          869220.0   \n",
       "3             0.0             602671.0   907502.0          985032.0   \n",
       "4             0.0             375304.0      486.0          126027.0   \n",
       "..            ...                  ...        ...               ...   \n",
       "95            0.0                  0.0   864523.0         1757552.0   \n",
       "96            0.0                  0.0      494.0          378082.0   \n",
       "97            0.0             422158.0     2401.0          213063.0   \n",
       "98            0.0                  0.0        0.0               0.0   \n",
       "99            0.0                  0.0        0.0          463261.0   \n",
       "\n",
       "    restricted_stock_deferred     salary  shared_receipt_with_poi  \\\n",
       "0                         0.0   420636.0                    864.0   \n",
       "1                         0.0  1111258.0                   2042.0   \n",
       "2                         0.0   211844.0                     91.0   \n",
       "3                         0.0   224305.0                      0.0   \n",
       "4                         0.0   240189.0                   2188.0   \n",
       "..                        ...        ...                      ...   \n",
       "95                  -560222.0      477.0                    465.0   \n",
       "96                        0.0   314288.0                     71.0   \n",
       "97                        0.0   248146.0                   2477.0   \n",
       "98                        0.0        0.0                      0.0   \n",
       "99                   -94556.0        0.0                      0.0   \n",
       "\n",
       "    to_messages  total_payments  total_stock_value  \n",
       "0         905.0        505050.0         22542539.0  \n",
       "1        3627.0       8682716.0         26093672.0  \n",
       "2         225.0       2003885.0          2493616.0  \n",
       "3           0.0       2652612.0           985032.0  \n",
       "4        2598.0       1639297.0           126027.0  \n",
       "..          ...             ...                ...  \n",
       "95        566.0        916197.0          5243487.0  \n",
       "96        102.0       1101393.0           495633.0  \n",
       "97       3136.0       1576511.0           494136.0  \n",
       "98          0.0          3750.0                0.0  \n",
       "99          0.0        774401.0           368705.0  \n",
       "\n",
       "[100 rows x 20 columns]"
      ]
     },
     "execution_count": 4,
     "metadata": {},
     "output_type": "execute_result"
    }
   ],
   "source": [
    "# 先將其NA值補0 (e-mail因為是文字的關係所以另外處理)\n",
    "fillna_zero_list = ['bonus','salary','loan_advances','restricted_stock_deferred','director_fees','deferral_payments',\n",
    "            'deferred_income', 'long_term_incentive','total_payments','total_stock_value','restricted_stock','expenses',\n",
    "            'to_messages','shared_receipt_with_poi','from_this_person_to_poi','from_messages','other','exercised_stock_options',\n",
    "            'from_poi_to_this_person']\n",
    "\n",
    "\n",
    "for col in fillna_zero_list:\n",
    "    df[col] = df[col].fillna(0)\n",
    "df.head(100)"
   ]
  },
  {
   "cell_type": "code",
   "execution_count": 5,
   "metadata": {},
   "outputs": [
    {
     "data": {
      "text/html": [
       "<div>\n",
       "<style scoped>\n",
       "    .dataframe tbody tr th:only-of-type {\n",
       "        vertical-align: middle;\n",
       "    }\n",
       "\n",
       "    .dataframe tbody tr th {\n",
       "        vertical-align: top;\n",
       "    }\n",
       "\n",
       "    .dataframe thead th {\n",
       "        text-align: right;\n",
       "    }\n",
       "</style>\n",
       "<table border=\"1\" class=\"dataframe\">\n",
       "  <thead>\n",
       "    <tr style=\"text-align: right;\">\n",
       "      <th></th>\n",
       "      <th>Missing Ratio</th>\n",
       "    </tr>\n",
       "  </thead>\n",
       "  <tbody>\n",
       "    <tr>\n",
       "      <th>email_address</th>\n",
       "      <td>23.972603</td>\n",
       "    </tr>\n",
       "  </tbody>\n",
       "</table>\n",
       "</div>"
      ],
      "text/plain": [
       "               Missing Ratio\n",
       "email_address      23.972603"
      ]
     },
     "metadata": {},
     "output_type": "display_data"
    }
   ],
   "source": [
    "na_check(df)"
   ]
  },
  {
   "cell_type": "code",
   "execution_count": 6,
   "metadata": {},
   "outputs": [],
   "source": [
    "#處理e-mail，當其改為label encoding的方式(有資料為1，NA為0)\n",
    "df['email_address'] =df['email_address'].apply(lambda x:0 if str(x)=='nan' else 1)"
   ]
  },
  {
   "cell_type": "code",
   "execution_count": 7,
   "metadata": {
    "scrolled": true
   },
   "outputs": [],
   "source": [
    "# 由於loan_advances和restricted_stock_deferred有過多NA值，因此不納入考量。\n",
    "df = df.drop([\"loan_advances\",\"restricted_stock_deferred\"], axis = 1)"
   ]
  },
  {
   "cell_type": "code",
   "execution_count": 8,
   "metadata": {},
   "outputs": [],
   "source": [
    "# 查看這些財務特徵資料是否有怪異的值或是離群值。\n",
    "finanace_features  =   ['salary', 'deferral_payments', 'total_payments','bonus','deferred_income', 'total_stock_value',\n",
    "                        'expenses','exercised_stock_options', 'other', 'long_term_incentive','restricted_stock', 'director_fees'] \n",
    "\n",
    "email_features =  ['to_messages', 'email_address', 'from_poi_to_this_person', 'from_messages',\n",
    "                   'from_this_person_to_poi','shared_receipt_with_poi']"
   ]
  },
  {
   "cell_type": "code",
   "execution_count": 9,
   "metadata": {},
   "outputs": [],
   "source": [
    "import matplotlib.pyplot as plt\n",
    "\n",
    "%matplotlib inline"
   ]
  },
  {
   "cell_type": "code",
   "execution_count": 10,
   "metadata": {
    "scrolled": true
   },
   "outputs": [
    {
     "data": {
      "image/png": "[encoded data removed]",
      "text/plain": [
       "<Figure size 432x288 with 1 Axes>"
      ]
     },
     "metadata": {
      "needs_background": "light"
     },
     "output_type": "display_data"
    },
    {
     "data": {
      "text/plain": [
       "0.0         51\n",
       "278601.0     2\n",
       "206121.0     1\n",
       "261809.0     1\n",
       "274975.0     1\n",
       "            ..\n",
       "365788.0     1\n",
       "267102.0     1\n",
       "655037.0     1\n",
       "224305.0     1\n",
       "261879.0     1\n",
       "Name: salary, Length: 95, dtype: int64"
      ]
     },
     "execution_count": 10,
     "metadata": {},
     "output_type": "execute_result"
    }
   ],
   "source": [
    "#查看每個特徵的資料是否有奇怪的地方\n",
    "#salary\n",
    "plt.hist(df[\"salary\"])\n",
    "plt.show()\n",
    "df[\"salary\"].value_counts()"
   ]
  },
  {
   "cell_type": "code",
   "execution_count": 11,
   "metadata": {},
   "outputs": [
    {
     "data": {
      "image/png": "[encoded data removed]",
      "text/plain": [
       "<Figure size 432x288 with 1 Axes>"
      ]
     },
     "metadata": {
      "needs_background": "light"
     },
     "output_type": "display_data"
    },
    {
     "data": {
      "text/plain": [
       " 0.0           107\n",
       " 50591.0         1\n",
       " 32083396.0      1\n",
       " 16586.0         1\n",
       " 3131860.0       1\n",
       " 214678.0        1\n",
       " 51365.0         1\n",
       " 504610.0        1\n",
       " 831299.0        1\n",
       " 27610.0         1\n",
       " 187469.0        1\n",
       " 6426990.0       1\n",
       " 875307.0        1\n",
       "-102500.0        1\n",
       " 1130036.0       1\n",
       " 73122.0         1\n",
       " 2964506.0       1\n",
       " 53625.0         1\n",
       " 774401.0        1\n",
       " 649584.0        1\n",
       " 2157527.0       1\n",
       " 202911.0        1\n",
       " 85430.0         1\n",
       " 181755.0        1\n",
       " 564348.0        1\n",
       " 227449.0        1\n",
       " 1848227.0       1\n",
       " 2144013.0       1\n",
       " 10259.0         1\n",
       " 1295738.0       1\n",
       " 842924.0        1\n",
       " 7961.0          1\n",
       " 181993.0        1\n",
       " 204075.0        1\n",
       " 77716.0         1\n",
       " 260455.0        1\n",
       " 684694.0        1\n",
       " 178980.0        1\n",
       " 93585.0         1\n",
       " 2869717.0       1\n",
       "Name: deferral_payments, dtype: int64"
      ]
     },
     "execution_count": 11,
     "metadata": {},
     "output_type": "execute_result"
    }
   ],
   "source": [
    "#deferral_payments\n",
    "plt.hist(df[\"deferral_payments\"])\n",
    "plt.show()\n",
    "df[\"deferral_payments\"].value_counts()"
   ]
  },
  {
   "cell_type": "code",
   "execution_count": 12,
   "metadata": {},
   "outputs": [
    {
     "data": {
      "image/png": "[encoded data removed]",
      "text/plain": [
       "<Figure size 432x288 with 1 Axes>"
      ]
     },
     "metadata": {
      "needs_background": "light"
     },
     "output_type": "display_data"
    },
    {
     "data": {
      "text/plain": [
       "0.0            21\n",
       "103559793.0     1\n",
       "2424083.0       1\n",
       "550981.0        1\n",
       "111529.0        1\n",
       "               ..\n",
       "49288.0         1\n",
       "505050.0        1\n",
       "1318763.0       1\n",
       "4099771.0       1\n",
       "7961.0          1\n",
       "Name: total_payments, Length: 126, dtype: int64"
      ]
     },
     "execution_count": 12,
     "metadata": {},
     "output_type": "execute_result"
    }
   ],
   "source": [
    "#total_payments\n",
    "plt.hist(df[\"total_payments\"])\n",
    "plt.show()\n",
    "df[\"total_payments\"].value_counts()"
   ]
  },
  {
   "cell_type": "code",
   "execution_count": 13,
   "metadata": {},
   "outputs": [
    {
     "data": {
      "image/png": "[encoded data removed]",
      "text/plain": [
       "<Figure size 432x288 with 1 Axes>"
      ]
     },
     "metadata": {
      "needs_background": "light"
     },
     "output_type": "display_data"
    },
    {
     "data": {
      "text/plain": [
       "0.0           64\n",
       "1000000.0      6\n",
       "600000.0       6\n",
       "700000.0       5\n",
       "400000.0       4\n",
       "750000.0       4\n",
       "800000.0       4\n",
       "200000.0       3\n",
       "325000.0       3\n",
       "850000.0       3\n",
       "300000.0       3\n",
       "900000.0       2\n",
       "1500000.0      2\n",
       "2000000.0      2\n",
       "3000000.0      2\n",
       "500000.0       2\n",
       "350000.0       2\n",
       "250000.0       2\n",
       "1200000.0      2\n",
       "100000.0       2\n",
       "1100000.0      2\n",
       "1750000.0      1\n",
       "1700000.0      1\n",
       "7000000.0      1\n",
       "788750.0       1\n",
       "1300000.0      1\n",
       "450000.0       1\n",
       "1150000.0      1\n",
       "8000000.0      1\n",
       "70000.0        1\n",
       "4175000.0      1\n",
       "650000.0       1\n",
       "1250000.0      1\n",
       "2500000.0      1\n",
       "97343619.0     1\n",
       "3100000.0      1\n",
       "509870.0       1\n",
       "5600000.0      1\n",
       "5249999.0      1\n",
       "425000.0       1\n",
       "1350000.0      1\n",
       "2600000.0      1\n",
       "Name: bonus, dtype: int64"
      ]
     },
     "execution_count": 13,
     "metadata": {},
     "output_type": "execute_result"
    }
   ],
   "source": [
    "#bonus\n",
    "plt.hist(df[\"bonus\"])\n",
    "plt.show()\n",
    "df[\"bonus\"].value_counts()"
   ]
  },
  {
   "cell_type": "code",
   "execution_count": 14,
   "metadata": {},
   "outputs": [
    {
     "data": {
      "image/png": "[encoded data removed]",
      "text/plain": [
       "<Figure size 432x288 with 1 Axes>"
      ]
     },
     "metadata": {
      "needs_background": "light"
     },
     "output_type": "display_data"
    },
    {
     "data": {
      "text/plain": [
       " 0.0           97\n",
       "-25000.0        4\n",
       "-300000.0       2\n",
       "-1386055.0      2\n",
       "-4167.0         1\n",
       "-485813.0       1\n",
       "-280000.0       1\n",
       "-934484.0       1\n",
       "-33333.0        1\n",
       "-694862.0       1\n",
       "-775241.0       1\n",
       "-3504386.0      1\n",
       "-113784.0       1\n",
       "-833.0          1\n",
       "-38346.0        1\n",
       "-103750.0       1\n",
       "-41250.0        1\n",
       "-27992891.0     1\n",
       "-575000.0       1\n",
       "-101250.0       1\n",
       "-10800.0        1\n",
       "-5104.0         1\n",
       "-1042.0         1\n",
       "-144062.0       1\n",
       "-3117011.0      1\n",
       "-1284000.0      1\n",
       "-17500.0        1\n",
       "-121284.0       1\n",
       "-200000.0       1\n",
       "-98784.0        1\n",
       "-235000.0       1\n",
       "-3367011.0      1\n",
       "-159792.0       1\n",
       "-3081055.0      1\n",
       "-262500.0       1\n",
       "-719000.0       1\n",
       "-75000.0        1\n",
       "-2334434.0      1\n",
       "-400729.0       1\n",
       "-51042.0        1\n",
       "-201641.0       1\n",
       "-100000.0       1\n",
       "-36666.0        1\n",
       "-583325.0       1\n",
       "-125000.0       1\n",
       "Name: deferred_income, dtype: int64"
      ]
     },
     "execution_count": 14,
     "metadata": {},
     "output_type": "execute_result"
    }
   ],
   "source": [
    "#deferred_income\n",
    "plt.hist(df[\"deferred_income\"])\n",
    "plt.show()\n",
    "df[\"deferred_income\"].value_counts()"
   ]
  },
  {
   "cell_type": "code",
   "execution_count": 15,
   "metadata": {},
   "outputs": [
    {
     "data": {
      "image/png": "[encoded data removed]",
      "text/plain": [
       "<Figure size 432x288 with 1 Axes>"
      ]
     },
     "metadata": {
      "needs_background": "light"
     },
     "output_type": "display_data"
    },
    {
     "data": {
      "text/plain": [
       "0.0          20\n",
       "2493616.0     2\n",
       "126027.0      2\n",
       "850477.0      1\n",
       "2282768.0     1\n",
       "             ..\n",
       "1794412.0     1\n",
       "6077885.0     1\n",
       "1030329.0     1\n",
       "2332399.0     1\n",
       "987001.0      1\n",
       "Name: total_stock_value, Length: 125, dtype: int64"
      ]
     },
     "execution_count": 15,
     "metadata": {},
     "output_type": "execute_result"
    }
   ],
   "source": [
    "#total_stock_value\n",
    "plt.hist(df[\"total_stock_value\"])\n",
    "plt.show()\n",
    "df[\"total_stock_value\"].value_counts()"
   ]
  },
  {
   "cell_type": "code",
   "execution_count": 16,
   "metadata": {},
   "outputs": [
    {
     "data": {
      "image/png": "[encoded data removed]",
      "text/plain": [
       "<Figure size 432x288 with 1 Axes>"
      ]
     },
     "metadata": {
      "needs_background": "light"
     },
     "output_type": "display_data"
    },
    {
     "data": {
      "text/plain": [
       "0.0         51\n",
       "16514.0      2\n",
       "27861.0      1\n",
       "50936.0      1\n",
       "48405.0      1\n",
       "            ..\n",
       "129142.0     1\n",
       "35818.0      1\n",
       "11892.0      1\n",
       "9410.0       1\n",
       "29336.0      1\n",
       "Name: expenses, Length: 95, dtype: int64"
      ]
     },
     "execution_count": 16,
     "metadata": {},
     "output_type": "execute_result"
    }
   ],
   "source": [
    "#expenses\n",
    "plt.hist(df[\"expenses\"])\n",
    "plt.show()\n",
    "df[\"expenses\"].value_counts()"
   ]
  },
  {
   "cell_type": "code",
   "execution_count": 17,
   "metadata": {},
   "outputs": [
    {
     "data": {
      "image/png": "[encoded data removed]",
      "text/plain": [
       "<Figure size 432x288 with 1 Axes>"
      ]
     },
     "metadata": {
      "needs_background": "light"
     },
     "output_type": "display_data"
    },
    {
     "data": {
      "text/plain": [
       "0.0          44\n",
       "1624396.0     2\n",
       "4346544.0     1\n",
       "17378.0       1\n",
       "2282768.0     1\n",
       "             ..\n",
       "2027865.0     1\n",
       "1451869.0     1\n",
       "384728.0      1\n",
       "591250.0      1\n",
       "2165172.0     1\n",
       "Name: exercised_stock_options, Length: 102, dtype: int64"
      ]
     },
     "execution_count": 17,
     "metadata": {},
     "output_type": "execute_result"
    }
   ],
   "source": [
    "#exercised_stock_options\n",
    "plt.hist(df[\"exercised_stock_options\"])\n",
    "plt.show()\n",
    "df[\"exercised_stock_options\"].value_counts()"
   ]
  },
  {
   "cell_type": "code",
   "execution_count": 18,
   "metadata": {},
   "outputs": [
    {
     "data": {
      "image/png": "[encoded data removed]",
      "text/plain": [
       "<Figure size 432x288 with 1 Axes>"
      ]
     },
     "metadata": {
      "needs_background": "light"
     },
     "output_type": "display_data"
    },
    {
     "data": {
      "text/plain": [
       "0.0          53\n",
       "540.0         2\n",
       "680833.0      1\n",
       "25553.0       1\n",
       "2401.0        1\n",
       "             ..\n",
       "401481.0      1\n",
       "465357.0      1\n",
       "1553729.0     1\n",
       "7482.0        1\n",
       "486.0         1\n",
       "Name: other, Length: 93, dtype: int64"
      ]
     },
     "execution_count": 18,
     "metadata": {},
     "output_type": "execute_result"
    }
   ],
   "source": [
    "#other\n",
    "plt.hist(df[\"other\"])\n",
    "plt.show()\n",
    "df[\"other\"].value_counts()"
   ]
  },
  {
   "cell_type": "code",
   "execution_count": 19,
   "metadata": {},
   "outputs": [
    {
     "data": {
      "image/png": "[encoded data removed]",
      "text/plain": [
       "<Figure size 432x288 with 1 Axes>"
      ]
     },
     "metadata": {
      "needs_background": "light"
     },
     "output_type": "display_data"
    },
    {
     "data": {
      "text/plain": [
       "0.0           80\n",
       "554422.0       4\n",
       "304805.0       3\n",
       "1617011.0      3\n",
       "200000.0       2\n",
       "694862.0       2\n",
       "275000.0       2\n",
       "556416.0       2\n",
       "175000.0       2\n",
       "375304.0       2\n",
       "300000.0       2\n",
       "350000.0       1\n",
       "831809.0       1\n",
       "540751.0       1\n",
       "369721.0       1\n",
       "323466.0       1\n",
       "461912.0       1\n",
       "476451.0       1\n",
       "100000.0       1\n",
       "422158.0       1\n",
       "769862.0       1\n",
       "125000.0       1\n",
       "135836.0       1\n",
       "69223.0        1\n",
       "415657.0       1\n",
       "1725545.0      1\n",
       "983346.0       1\n",
       "602671.0       1\n",
       "256191.0       1\n",
       "180250.0       1\n",
       "2035380.0      1\n",
       "156250.0       1\n",
       "484000.0       1\n",
       "974293.0       1\n",
       "1586055.0      1\n",
       "312500.0       1\n",
       "1387399.0      1\n",
       "1736055.0      1\n",
       "150000.0       1\n",
       "75000.0        1\n",
       "93750.0        1\n",
       "3600000.0      1\n",
       "2234774.0      1\n",
       "808346.0       1\n",
       "374347.0       1\n",
       "48521928.0     1\n",
       "1105218.0      1\n",
       "1294981.0      1\n",
       "71023.0        1\n",
       "365625.0       1\n",
       "5145434.0      1\n",
       "335349.0       1\n",
       "1920000.0      1\n",
       "Name: long_term_incentive, dtype: int64"
      ]
     },
     "execution_count": 19,
     "metadata": {},
     "output_type": "execute_result"
    }
   ],
   "source": [
    "#long_term_incentive\n",
    "plt.hist(df[\"long_term_incentive\"])\n",
    "plt.show()\n",
    "df[\"long_term_incentive\"].value_counts()"
   ]
  },
  {
   "cell_type": "code",
   "execution_count": 20,
   "metadata": {},
   "outputs": [
    {
     "data": {
      "image/png": "[encoded data removed]",
      "text/plain": [
       "<Figure size 432x288 with 1 Axes>"
      ]
     },
     "metadata": {
      "needs_background": "light"
     },
     "output_type": "display_data"
    },
    {
     "data": {
      "text/plain": [
       "0.0           36\n",
       "126027.0       5\n",
       "441096.0       3\n",
       "315068.0       3\n",
       "189041.0       3\n",
       "              ..\n",
       "13847074.0     1\n",
       "6843672.0      1\n",
       "2796177.0      1\n",
       "417619.0       1\n",
       "466101.0       1\n",
       "Name: restricted_stock, Length: 98, dtype: int64"
      ]
     },
     "execution_count": 20,
     "metadata": {},
     "output_type": "execute_result"
    }
   ],
   "source": [
    "#restricted_stock\n",
    "plt.hist(df[\"restricted_stock\"])\n",
    "plt.show()\n",
    "df[\"restricted_stock\"].value_counts()"
   ]
  },
  {
   "cell_type": "code",
   "execution_count": 21,
   "metadata": {},
   "outputs": [
    {
     "data": {
      "image/png": "[encoded data removed]",
      "text/plain": [
       "<Figure size 432x288 with 1 Axes>"
      ]
     },
     "metadata": {
      "needs_background": "light"
     },
     "output_type": "display_data"
    },
    {
     "data": {
      "text/plain": [
       "0.0          129\n",
       "119292.0       1\n",
       "101250.0       1\n",
       "108579.0       1\n",
       "137864.0       1\n",
       "103750.0       1\n",
       "38346.0        1\n",
       "102492.0       1\n",
       "125034.0       1\n",
       "98784.0        1\n",
       "108750.0       1\n",
       "1398517.0      1\n",
       "17500.0        1\n",
       "109298.0       1\n",
       "36666.0        1\n",
       "3285.0         1\n",
       "113784.0       1\n",
       "112492.0       1\n",
       "Name: director_fees, dtype: int64"
      ]
     },
     "execution_count": 21,
     "metadata": {},
     "output_type": "execute_result"
    }
   ],
   "source": [
    "#director_fees\n",
    "plt.hist(df[\"director_fees\"])\n",
    "plt.show()\n",
    "df[\"director_fees\"].value_counts()"
   ]
  },
  {
   "cell_type": "code",
   "execution_count": 22,
   "metadata": {},
   "outputs": [],
   "source": [
    "#由於財務資料中，有許多筆為0，但並非為離群值，因此使用標準化(Z分數)會比起最大最小化還來得合適。\n",
    "#另外email資料由於都是呈現次數為主，因此不用再多做其他處理，以原資料即可使用(就像是做過label encoding一樣)。\n",
    "def normalize_value(x):\n",
    "    x = (( (x - np.mean(x)) / (np.std(x))))\n",
    "    return x\n",
    "df[finanace_features] = normalize_value(df[finanace_features])"
   ]
  },
  {
   "cell_type": "code",
   "execution_count": 23,
   "metadata": {},
   "outputs": [
    {
     "data": {
      "text/html": [
       "<div>\n",
       "<style scoped>\n",
       "    .dataframe tbody tr th:only-of-type {\n",
       "        vertical-align: middle;\n",
       "    }\n",
       "\n",
       "    .dataframe tbody tr th {\n",
       "        vertical-align: top;\n",
       "    }\n",
       "\n",
       "    .dataframe thead th {\n",
       "        text-align: right;\n",
       "    }\n",
       "</style>\n",
       "<table border=\"1\" class=\"dataframe\">\n",
       "  <thead>\n",
       "    <tr style=\"text-align: right;\">\n",
       "      <th></th>\n",
       "      <th>bonus</th>\n",
       "      <th>deferral_payments</th>\n",
       "      <th>deferred_income</th>\n",
       "      <th>director_fees</th>\n",
       "      <th>email_address</th>\n",
       "      <th>exercised_stock_options</th>\n",
       "      <th>expenses</th>\n",
       "      <th>from_messages</th>\n",
       "      <th>from_poi_to_this_person</th>\n",
       "      <th>from_this_person_to_poi</th>\n",
       "      <th>long_term_incentive</th>\n",
       "      <th>other</th>\n",
       "      <th>restricted_stock</th>\n",
       "      <th>salary</th>\n",
       "      <th>shared_receipt_with_poi</th>\n",
       "      <th>to_messages</th>\n",
       "      <th>total_payments</th>\n",
       "      <th>total_stock_value</th>\n",
       "    </tr>\n",
       "  </thead>\n",
       "  <tbody>\n",
       "    <tr>\n",
       "      <th>0</th>\n",
       "      <td>0.051638</td>\n",
       "      <td>-0.160618</td>\n",
       "      <td>-1.317090</td>\n",
       "      <td>-0.163701</td>\n",
       "      <td>1</td>\n",
       "      <td>0.600880</td>\n",
       "      <td>-0.055187</td>\n",
       "      <td>18.0</td>\n",
       "      <td>42.0</td>\n",
       "      <td>4.0</td>\n",
       "      <td>0.236181</td>\n",
       "      <td>-0.111887</td>\n",
       "      <td>0.091977</td>\n",
       "      <td>0.024966</td>\n",
       "      <td>864.0</td>\n",
       "      <td>905.0</td>\n",
       "      <td>-0.143267</td>\n",
       "      <td>0.462220</td>\n",
       "    </tr>\n",
       "    <tr>\n",
       "      <th>1</th>\n",
       "      <td>0.528935</td>\n",
       "      <td>-0.160618</td>\n",
       "      <td>0.161497</td>\n",
       "      <td>-0.163701</td>\n",
       "      <td>1</td>\n",
       "      <td>0.579935</td>\n",
       "      <td>-0.096032</td>\n",
       "      <td>108.0</td>\n",
       "      <td>88.0</td>\n",
       "      <td>30.0</td>\n",
       "      <td>0.311323</td>\n",
       "      <td>-0.153502</td>\n",
       "      <td>0.468988</td>\n",
       "      <td>0.339454</td>\n",
       "      <td>2042.0</td>\n",
       "      <td>3627.0</td>\n",
       "      <td>0.161392</td>\n",
       "      <td>0.560528</td>\n",
       "    </tr>\n",
       "    <tr>\n",
       "      <th>2</th>\n",
       "      <td>-0.140520</td>\n",
       "      <td>-0.160618</td>\n",
       "      <td>0.159739</td>\n",
       "      <td>-0.163701</td>\n",
       "      <td>1</td>\n",
       "      <td>-0.098470</td>\n",
       "      <td>-0.110994</td>\n",
       "      <td>39.0</td>\n",
       "      <td>13.0</td>\n",
       "      <td>14.0</td>\n",
       "      <td>-0.164844</td>\n",
       "      <td>0.269202</td>\n",
       "      <td>-0.081016</td>\n",
       "      <td>-0.070112</td>\n",
       "      <td>91.0</td>\n",
       "      <td>225.0</td>\n",
       "      <td>-0.087428</td>\n",
       "      <td>-0.092807</td>\n",
       "    </tr>\n",
       "    <tr>\n",
       "      <th>3</th>\n",
       "      <td>-0.066136</td>\n",
       "      <td>-0.160618</td>\n",
       "      <td>0.161497</td>\n",
       "      <td>-0.163701</td>\n",
       "      <td>1</td>\n",
       "      <td>-0.160992</td>\n",
       "      <td>0.109885</td>\n",
       "      <td>0.0</td>\n",
       "      <td>0.0</td>\n",
       "      <td>0.0</td>\n",
       "      <td>-0.015379</td>\n",
       "      <td>0.087764</td>\n",
       "      <td>-0.070354</td>\n",
       "      <td>-0.064438</td>\n",
       "      <td>0.0</td>\n",
       "      <td>0.0</td>\n",
       "      <td>-0.063259</td>\n",
       "      <td>-0.134570</td>\n",
       "    </tr>\n",
       "    <tr>\n",
       "      <th>4</th>\n",
       "      <td>-0.010349</td>\n",
       "      <td>-0.160618</td>\n",
       "      <td>0.050742</td>\n",
       "      <td>-0.163701</td>\n",
       "      <td>1</td>\n",
       "      <td>-0.160992</td>\n",
       "      <td>-0.081001</td>\n",
       "      <td>144.0</td>\n",
       "      <td>199.0</td>\n",
       "      <td>25.0</td>\n",
       "      <td>-0.071767</td>\n",
       "      <td>-0.159398</td>\n",
       "      <td>-0.149433</td>\n",
       "      <td>-0.057205</td>\n",
       "      <td>2188.0</td>\n",
       "      <td>2598.0</td>\n",
       "      <td>-0.101010</td>\n",
       "      <td>-0.158350</td>\n",
       "    </tr>\n",
       "    <tr>\n",
       "      <th>...</th>\n",
       "      <td>...</td>\n",
       "      <td>...</td>\n",
       "      <td>...</td>\n",
       "      <td>...</td>\n",
       "      <td>...</td>\n",
       "      <td>...</td>\n",
       "      <td>...</td>\n",
       "      <td>...</td>\n",
       "      <td>...</td>\n",
       "      <td>...</td>\n",
       "      <td>...</td>\n",
       "      <td>...</td>\n",
       "      <td>...</td>\n",
       "      <td>...</td>\n",
       "      <td>...</td>\n",
       "      <td>...</td>\n",
       "      <td>...</td>\n",
       "      <td>...</td>\n",
       "    </tr>\n",
       "    <tr>\n",
       "      <th>28</th>\n",
       "      <td>-0.041342</td>\n",
       "      <td>-0.160618</td>\n",
       "      <td>0.161497</td>\n",
       "      <td>-0.163701</td>\n",
       "      <td>1</td>\n",
       "      <td>-0.104577</td>\n",
       "      <td>-0.074645</td>\n",
       "      <td>40.0</td>\n",
       "      <td>23.0</td>\n",
       "      <td>8.0</td>\n",
       "      <td>-0.073152</td>\n",
       "      <td>-0.043530</td>\n",
       "      <td>-0.126229</td>\n",
       "      <td>-0.069301</td>\n",
       "      <td>1336.0</td>\n",
       "      <td>1607.0</td>\n",
       "      <td>-0.085799</td>\n",
       "      <td>-0.110795</td>\n",
       "    </tr>\n",
       "    <tr>\n",
       "      <th>29</th>\n",
       "      <td>0.020645</td>\n",
       "      <td>-0.160618</td>\n",
       "      <td>0.161497</td>\n",
       "      <td>-0.163701</td>\n",
       "      <td>1</td>\n",
       "      <td>-0.090342</td>\n",
       "      <td>-0.164061</td>\n",
       "      <td>92.0</td>\n",
       "      <td>28.0</td>\n",
       "      <td>23.0</td>\n",
       "      <td>-0.027345</td>\n",
       "      <td>0.345192</td>\n",
       "      <td>-0.041964</td>\n",
       "      <td>0.028674</td>\n",
       "      <td>2103.0</td>\n",
       "      <td>3187.0</td>\n",
       "      <td>-0.000568</td>\n",
       "      <td>-0.075217</td>\n",
       "    </tr>\n",
       "    <tr>\n",
       "      <th>30</th>\n",
       "      <td>-0.165315</td>\n",
       "      <td>0.024091</td>\n",
       "      <td>0.161497</td>\n",
       "      <td>-0.163701</td>\n",
       "      <td>1</td>\n",
       "      <td>-0.075612</td>\n",
       "      <td>-0.164061</td>\n",
       "      <td>12.0</td>\n",
       "      <td>0.0</td>\n",
       "      <td>0.0</td>\n",
       "      <td>-0.050288</td>\n",
       "      <td>-0.159531</td>\n",
       "      <td>-0.161035</td>\n",
       "      <td>-0.166580</td>\n",
       "      <td>23.0</td>\n",
       "      <td>169.0</td>\n",
       "      <td>-0.126074</td>\n",
       "      <td>-0.100429</td>\n",
       "    </tr>\n",
       "    <tr>\n",
       "      <th>31</th>\n",
       "      <td>-0.140520</td>\n",
       "      <td>-0.085918</td>\n",
       "      <td>0.161497</td>\n",
       "      <td>-0.163701</td>\n",
       "      <td>1</td>\n",
       "      <td>-0.062868</td>\n",
       "      <td>-0.030196</td>\n",
       "      <td>0.0</td>\n",
       "      <td>0.0</td>\n",
       "      <td>0.0</td>\n",
       "      <td>-0.121444</td>\n",
       "      <td>-0.158814</td>\n",
       "      <td>-0.113639</td>\n",
       "      <td>-0.058904</td>\n",
       "      <td>0.0</td>\n",
       "      <td>0.0</td>\n",
       "      <td>-0.129451</td>\n",
       "      <td>-0.077011</td>\n",
       "    </tr>\n",
       "    <tr>\n",
       "      <th>32</th>\n",
       "      <td>0.157015</td>\n",
       "      <td>-0.160618</td>\n",
       "      <td>0.161497</td>\n",
       "      <td>-0.163701</td>\n",
       "      <td>1</td>\n",
       "      <td>-0.118498</td>\n",
       "      <td>0.153884</td>\n",
       "      <td>48.0</td>\n",
       "      <td>58.0</td>\n",
       "      <td>26.0</td>\n",
       "      <td>0.007484</td>\n",
       "      <td>-0.078502</td>\n",
       "      <td>-0.109593</td>\n",
       "      <td>0.002111</td>\n",
       "      <td>2228.0</td>\n",
       "      <td>2355.0</td>\n",
       "      <td>-0.009345</td>\n",
       "      <td>-0.115805</td>\n",
       "    </tr>\n",
       "  </tbody>\n",
       "</table>\n",
       "<p>146 rows × 18 columns</p>\n",
       "</div>"
      ],
      "text/plain": [
       "       bonus  deferral_payments  deferred_income  director_fees  \\\n",
       "0   0.051638          -0.160618        -1.317090      -0.163701   \n",
       "1   0.528935          -0.160618         0.161497      -0.163701   \n",
       "2  -0.140520          -0.160618         0.159739      -0.163701   \n",
       "3  -0.066136          -0.160618         0.161497      -0.163701   \n",
       "4  -0.010349          -0.160618         0.050742      -0.163701   \n",
       "..       ...                ...              ...            ...   \n",
       "28 -0.041342          -0.160618         0.161497      -0.163701   \n",
       "29  0.020645          -0.160618         0.161497      -0.163701   \n",
       "30 -0.165315           0.024091         0.161497      -0.163701   \n",
       "31 -0.140520          -0.085918         0.161497      -0.163701   \n",
       "32  0.157015          -0.160618         0.161497      -0.163701   \n",
       "\n",
       "    email_address  exercised_stock_options  expenses  from_messages  \\\n",
       "0               1                 0.600880 -0.055187           18.0   \n",
       "1               1                 0.579935 -0.096032          108.0   \n",
       "2               1                -0.098470 -0.110994           39.0   \n",
       "3               1                -0.160992  0.109885            0.0   \n",
       "4               1                -0.160992 -0.081001          144.0   \n",
       "..            ...                      ...       ...            ...   \n",
       "28              1                -0.104577 -0.074645           40.0   \n",
       "29              1                -0.090342 -0.164061           92.0   \n",
       "30              1                -0.075612 -0.164061           12.0   \n",
       "31              1                -0.062868 -0.030196            0.0   \n",
       "32              1                -0.118498  0.153884           48.0   \n",
       "\n",
       "    from_poi_to_this_person  from_this_person_to_poi  long_term_incentive  \\\n",
       "0                      42.0                      4.0             0.236181   \n",
       "1                      88.0                     30.0             0.311323   \n",
       "2                      13.0                     14.0            -0.164844   \n",
       "3                       0.0                      0.0            -0.015379   \n",
       "4                     199.0                     25.0            -0.071767   \n",
       "..                      ...                      ...                  ...   \n",
       "28                     23.0                      8.0            -0.073152   \n",
       "29                     28.0                     23.0            -0.027345   \n",
       "30                      0.0                      0.0            -0.050288   \n",
       "31                      0.0                      0.0            -0.121444   \n",
       "32                     58.0                     26.0             0.007484   \n",
       "\n",
       "       other  restricted_stock    salary  shared_receipt_with_poi  \\\n",
       "0  -0.111887          0.091977  0.024966                    864.0   \n",
       "1  -0.153502          0.468988  0.339454                   2042.0   \n",
       "2   0.269202         -0.081016 -0.070112                     91.0   \n",
       "3   0.087764         -0.070354 -0.064438                      0.0   \n",
       "4  -0.159398         -0.149433 -0.057205                   2188.0   \n",
       "..       ...               ...       ...                      ...   \n",
       "28 -0.043530         -0.126229 -0.069301                   1336.0   \n",
       "29  0.345192         -0.041964  0.028674                   2103.0   \n",
       "30 -0.159531         -0.161035 -0.166580                     23.0   \n",
       "31 -0.158814         -0.113639 -0.058904                      0.0   \n",
       "32 -0.078502         -0.109593  0.002111                   2228.0   \n",
       "\n",
       "    to_messages  total_payments  total_stock_value  \n",
       "0         905.0       -0.143267           0.462220  \n",
       "1        3627.0        0.161392           0.560528  \n",
       "2         225.0       -0.087428          -0.092807  \n",
       "3           0.0       -0.063259          -0.134570  \n",
       "4        2598.0       -0.101010          -0.158350  \n",
       "..          ...             ...                ...  \n",
       "28       1607.0       -0.085799          -0.110795  \n",
       "29       3187.0       -0.000568          -0.075217  \n",
       "30        169.0       -0.126074          -0.100429  \n",
       "31          0.0       -0.129451          -0.077011  \n",
       "32       2355.0       -0.009345          -0.115805  \n",
       "\n",
       "[146 rows x 18 columns]"
      ]
     },
     "execution_count": 23,
     "metadata": {},
     "output_type": "execute_result"
    }
   ],
   "source": [
    "df"
   ]
  },
  {
   "cell_type": "code",
   "execution_count": 24,
   "metadata": {},
   "outputs": [],
   "source": [
    "from sklearn.model_selection import train_test_split\n",
    "\n",
    "train_num = train_Y.shape[0]\n",
    "train_X = df[:train_num]\n",
    "test_X = df[train_num:]\n",
    "\n",
    "X_train, X_test, y_train, y_test = train_test_split(train_X,train_Y, test_size=0.3, random_state=10)"
   ]
  },
  {
   "cell_type": "markdown",
   "metadata": {},
   "source": [
    "# 決策樹"
   ]
  },
  {
   "cell_type": "code",
   "execution_count": 25,
   "metadata": {},
   "outputs": [
    {
     "name": "stdout",
     "output_type": "stream",
     "text": [
      "acc_決策樹(未調整參數) : 0.8529411764705882\n"
     ]
    }
   ],
   "source": [
    "from sklearn.tree import DecisionTreeClassifier\n",
    "from sklearn import metrics\n",
    "dtclf = DecisionTreeClassifier(random_state=5)\n",
    "\n",
    "dtclf.fit(X_train, y_train)\n",
    "y_pred = dtclf.predict(X_test)\n",
    "\n",
    "print(\"acc_決策樹(未調整參數) :\" , metrics.accuracy_score(y_pred, y_test))\n"
   ]
  },
  {
   "cell_type": "code",
   "execution_count": 26,
   "metadata": {},
   "outputs": [
    {
     "name": "stderr",
     "output_type": "stream",
     "text": [
      "C:\\ProgramData\\Anaconda3\\lib\\site-packages\\sklearn\\model_selection\\_split.py:670: UserWarning: The least populated class in y has only 9 members, which is less than n_splits=10.\n",
      "  warnings.warn((\"The least populated class in y has only %d\"\n"
     ]
    },
    {
     "name": "stdout",
     "output_type": "stream",
     "text": [
      "最佳參數組合 : {'min_samples_split': 10, 'min_samples_leaf': 30, 'max_depth': 4}\n"
     ]
    }
   ],
   "source": [
    "#尋找最佳參數組合\n",
    "from sklearn.model_selection import RandomizedSearchCV\n",
    "\n",
    "hyperparameter_space = {'max_depth':[2,3,4,6,8,10,12,15,20], \n",
    "                        'min_samples_leaf':[1,2,4,6,8,10,20,30],\n",
    "                        'min_samples_split':[1,2,3,4,5,6,8,10]}\n",
    "\n",
    "rs_dtclf = RandomizedSearchCV(dtclf, param_distributions=hyperparameter_space,\n",
    "                        n_iter=10, scoring=\"accuracy\", random_state=20,\n",
    "                        n_jobs=-1, cv=10, return_train_score=True)\n",
    "\n",
    "rs_dtclf.fit(X_train, y_train)\n",
    "print(\"最佳參數組合 :\" ,rs_dtclf.best_params_)"
   ]
  },
  {
   "cell_type": "code",
   "execution_count": 27,
   "metadata": {},
   "outputs": [
    {
     "name": "stdout",
     "output_type": "stream",
     "text": [
      "acc_決策樹(調整參數) : 0.8823529411764706\n"
     ]
    }
   ],
   "source": [
    "dtclf_bestparam = DecisionTreeClassifier(\n",
    "    min_samples_split = rs_dtclf.best_params_[\"min_samples_split\"],\n",
    "    min_samples_leaf = rs_dtclf.best_params_[\"min_samples_leaf\"],\n",
    "    max_depth = rs_dtclf.best_params_[\"max_depth\"],\n",
    "    random_state= 12)\n",
    "\n",
    "dtclf_bestparam.fit(X_train,y_train)\n",
    "y_pred = dtclf_bestparam.predict(X_test)\n",
    "\n",
    "print(\"acc_決策樹(調整參數) :\" , metrics.accuracy_score(y_pred, y_test))\n"
   ]
  },
  {
   "cell_type": "code",
   "execution_count": 28,
   "metadata": {},
   "outputs": [
    {
     "name": "stdout",
     "output_type": "stream",
     "text": [
      "acc_決策樹(調整參數) : 0.8823529411764706\n"
     ]
    }
   ],
   "source": [
    "#另一種比較簡單的寫法\n",
    "rs_dtclf.best_estimator_.fit(X_train, y_train)\n",
    "y_pred = rs_dtclf.best_estimator_.predict(X_test)\n",
    "print(\"acc_決策樹(調整參數) :\" , metrics.accuracy_score(y_pred, y_test))"
   ]
  },
  {
   "cell_type": "code",
   "execution_count": 29,
   "metadata": {},
   "outputs": [],
   "source": [
    "#匯出預測檔案\n",
    "y_pred_dtclf =  rs_dtclf.best_estimator_.predict_proba(test_X)[:,1]\n",
    "sub_dtclf = pd.DataFrame({'name':ids, 'poi':y_pred_dtclf})\n",
    "sub_dtclf.to_csv('submission_決策樹.csv', index=False)"
   ]
  },
  {
   "cell_type": "markdown",
   "metadata": {},
   "source": [
    "# 可以看到調整後的參數都有明顯的提升。"
   ]
  },
  {
   "cell_type": "markdown",
   "metadata": {},
   "source": [
    "# 隨機森林"
   ]
  },
  {
   "cell_type": "code",
   "execution_count": 30,
   "metadata": {},
   "outputs": [
    {
     "name": "stdout",
     "output_type": "stream",
     "text": [
      "Acc_隨機森林(未改參數) : 0.8823529411764706\n"
     ]
    }
   ],
   "source": [
    "from sklearn.ensemble import RandomForestClassifier\n",
    "RFclf = RandomForestClassifier(\n",
    "    random_state= 40)\n",
    "RFclf.fit(X_train, y_train)\n",
    "y_pred = RFclf.predict(X_test)\n",
    "\n",
    "print(\"Acc_隨機森林(未改參數) :\" , metrics.accuracy_score(y_pred,y_test))"
   ]
  },
  {
   "cell_type": "code",
   "execution_count": 31,
   "metadata": {},
   "outputs": [
    {
     "name": "stderr",
     "output_type": "stream",
     "text": [
      "C:\\ProgramData\\Anaconda3\\lib\\site-packages\\sklearn\\model_selection\\_split.py:670: UserWarning: The least populated class in y has only 9 members, which is less than n_splits=10.\n",
      "  warnings.warn((\"The least populated class in y has only %d\"\n"
     ]
    },
    {
     "name": "stdout",
     "output_type": "stream",
     "text": [
      "最佳參數組合 : {'n_estimators': 100, 'min_samples_split': 2, 'min_samples_leaf': 2, 'max_depth': 7}\n"
     ]
    }
   ],
   "source": [
    "hyperparameter_space = {'n_estimators':[2,3,4,5,6,7,8,9,10,20,30,40,50,100], \n",
    "                        'max_depth':[1,2,3,4,5,6,7,8,9],\n",
    "                        \"min_samples_split\" : [1,2,3,4,5,6,7,8,9,10],\n",
    "                        \"min_samples_leaf\" : [1,2,3,4,5]\n",
    "                       }\n",
    "\n",
    "rs_RFclf = RandomizedSearchCV(RFclf, param_distributions=hyperparameter_space,\n",
    "                        n_iter=10, scoring=\"accuracy\", random_state=20,\n",
    "                        n_jobs=-1, cv=10, return_train_score=True)\n",
    "\n",
    "rs_RFclf.fit(X_train, y_train)\n",
    "print(\"最佳參數組合 :\" ,rs_RFclf.best_params_)"
   ]
  },
  {
   "cell_type": "code",
   "execution_count": 32,
   "metadata": {},
   "outputs": [
    {
     "name": "stdout",
     "output_type": "stream",
     "text": [
      "acc_決策樹(調整參數) : 0.9117647058823529\n"
     ]
    }
   ],
   "source": [
    "RFclf_bestparam = RandomForestClassifier(\n",
    "    min_samples_split = rs_RFclf.best_params_[\"min_samples_split\"],\n",
    "    min_samples_leaf = rs_RFclf.best_params_[\"min_samples_leaf\"],\n",
    "    max_depth = rs_RFclf.best_params_[\"max_depth\"],\n",
    "    n_estimators = rs_RFclf.best_params_[\"n_estimators\"],\n",
    "    random_state= 100)\n",
    "\n",
    "RFclf_bestparam.fit(X_train,y_train)\n",
    "y_pred = RFclf_bestparam.predict(X_test)\n",
    "\n",
    "print(\"acc_決策樹(調整參數) :\" , metrics.accuracy_score(y_pred, y_test))\n"
   ]
  },
  {
   "cell_type": "code",
   "execution_count": 33,
   "metadata": {},
   "outputs": [
    {
     "name": "stdout",
     "output_type": "stream",
     "text": [
      "acc_隨機森林(調整參數) : 0.9117647058823529\n"
     ]
    }
   ],
   "source": [
    "rs_RFclf.best_estimator_.fit(X_train, y_train)\n",
    "y_pred = rs_RFclf.best_estimator_.predict(X_test)\n",
    "print(\"acc_隨機森林(調整參數) :\" , metrics.accuracy_score(y_pred, y_test))"
   ]
  },
  {
   "cell_type": "code",
   "execution_count": 34,
   "metadata": {},
   "outputs": [],
   "source": [
    "#匯出預測檔案\n",
    "y_pred_RFclf =  rs_RFclf.best_estimator_.predict_proba(test_X)[:,1]\n",
    "sub_RFclf = pd.DataFrame({'name':ids, 'poi':y_pred_RFclf})\n",
    "sub_RFclf.to_csv('submission_隨機森林.csv', index=False)"
   ]
  },
  {
   "cell_type": "markdown",
   "metadata": {},
   "source": [
    "# gdbt"
   ]
  },
  {
   "cell_type": "code",
   "execution_count": 35,
   "metadata": {},
   "outputs": [
    {
     "name": "stdout",
     "output_type": "stream",
     "text": [
      "acc_gdbt(未條參數) : 0.5\n"
     ]
    }
   ],
   "source": [
    "from sklearn.ensemble import GradientBoostingClassifier\n",
    "gdbt = GradientBoostingClassifier()\n",
    "\n",
    "gdbt.fit(X_train, y_train)\n",
    "\n",
    "y_pred = gdbt.predict(X_test)\n",
    "\n",
    "print(\"acc_gdbt(未條參數) :\", metrics.roc_auc_score(y_test,y_pred))\n"
   ]
  },
  {
   "cell_type": "code",
   "execution_count": 36,
   "metadata": {},
   "outputs": [
    {
     "name": "stderr",
     "output_type": "stream",
     "text": [
      "C:\\ProgramData\\Anaconda3\\lib\\site-packages\\sklearn\\model_selection\\_split.py:670: UserWarning: The least populated class in y has only 9 members, which is less than n_splits=10.\n",
      "  warnings.warn((\"The least populated class in y has only %d\"\n"
     ]
    },
    {
     "name": "stdout",
     "output_type": "stream",
     "text": [
      "最佳參數組合 : {'tol': 30, 'subsample': 0.9, 'n_estimators': 40, 'min_samples_split': 2, 'min_samples_leaf': 1, 'max_depth': 7, 'learning_rate': 0.07}\n"
     ]
    }
   ],
   "source": [
    "hyperparameter_space = {'n_estimators':[2,3,4,5,6,7,8,9,10,20,30,40,50,100], \n",
    "                        'max_depth':[1,2,3,4,5,6,7,8,9],\n",
    "                        \"min_samples_split\" : [1,2,3,4,5,6,7,8,9,10],\n",
    "                        \"min_samples_leaf\" : [1,2,3,4,5],\n",
    "                        \"tol\" : [5,10,15,20,30,40,50,60,70,80,90,100,110,120],\n",
    "                        \"subsample\" : [0.1,0.2,0.3,0.4,0.5,0.6,0.7,0.8,0.9],\n",
    "                        \"learning_rate\" : [0.01,0.02,0.03,0.04,0.05,0.06,0.07,0.08,0.09,0.1,0.15,0.2,0.3,0.4,0.5]\n",
    "                       }\n",
    "\n",
    "rs_gdbt = RandomizedSearchCV(gdbt, param_distributions=hyperparameter_space,\n",
    "                        n_iter=10, scoring=\"accuracy\", random_state=20,\n",
    "                        n_jobs=-1, cv=10, return_train_score=True)\n",
    "\n",
    "rs_gdbt.fit(X_train, y_train)\n",
    "print(\"最佳參數組合 :\" ,rs_gdbt.best_params_)\n",
    "\n",
    "\n"
   ]
  },
  {
   "cell_type": "code",
   "execution_count": 37,
   "metadata": {},
   "outputs": [
    {
     "name": "stdout",
     "output_type": "stream",
     "text": [
      "acc_決策樹(調整參數) : 0.8823529411764706\n"
     ]
    }
   ],
   "source": [
    "gdbt_bestparam = GradientBoostingClassifier(\n",
    "    tol = rs_gdbt.best_params_[\"tol\"],\n",
    "    min_samples_leaf = rs_gdbt.best_params_[\"min_samples_leaf\"],\n",
    "    max_depth = rs_gdbt.best_params_[\"max_depth\"],\n",
    "    n_estimators = rs_gdbt.best_params_[\"n_estimators\"],\n",
    "    subsample = rs_gdbt.best_params_[\"subsample\"],\n",
    "    learning_rate = rs_gdbt.best_params_[\"learning_rate\"],\n",
    "    min_samples_split = rs_gdbt.best_params_[\"min_samples_split\"],\n",
    "    random_state= 200)\n",
    "\n",
    "gdbt_bestparam.fit(X_train,y_train)\n",
    "y_pred = gdbt_bestparam.predict(X_test)\n",
    "\n",
    "print(\"acc_決策樹(調整參數) :\" , metrics.accuracy_score(y_pred, y_test))"
   ]
  },
  {
   "cell_type": "code",
   "execution_count": 38,
   "metadata": {},
   "outputs": [
    {
     "name": "stdout",
     "output_type": "stream",
     "text": [
      "acc_gdbt(調整參數) : 0.8823529411764706\n"
     ]
    }
   ],
   "source": [
    "rs_gdbt.best_estimator_.fit(X_train, y_train)\n",
    "y_pred_gdbt = rs_gdbt.best_estimator_.predict(X_test)\n",
    "print(\"acc_gdbt(調整參數) :\" , metrics.accuracy_score(y_pred, y_test))"
   ]
  },
  {
   "cell_type": "code",
   "execution_count": 39,
   "metadata": {},
   "outputs": [],
   "source": [
    "#匯出預測檔案\n",
    "y_pred_gdbt =  rs_gdbt.best_estimator_.predict_proba(test_X)[:,1]\n",
    "sub_gdbt = pd.DataFrame({'name':ids, 'poi':y_pred_gdbt})\n",
    "sub_gdbt.to_csv('submission_gdbt.csv', index=False)"
   ]
  },
  {
   "cell_type": "markdown",
   "metadata": {},
   "source": [
    "# blending 、 stacking"
   ]
  },
  {
   "cell_type": "code",
   "execution_count": 40,
   "metadata": {},
   "outputs": [],
   "source": [
    "#Blending，因為有上傳限制，所以這邊就直接看train上面的效果給予權重。\n",
    "blending_pred = y_pred_dtclf*0.25  + y_pred_RFclf*0.4 + y_pred_gdbt*0.35\n",
    "sub_blending = pd.DataFrame({'name': ids, 'poi': blending_pred})\n",
    "sub_blending.to_csv('poi_blending.csv', index=False)"
   ]
  },
  {
   "cell_type": "code",
   "execution_count": 41,
   "metadata": {},
   "outputs": [],
   "source": [
    "#Stacking\n",
    "\n",
    "from mlxtend.classifier import StackingClassifier\n",
    "\n",
    "meta_estimator = gdbt_bestparam\n",
    "stacking = StackingClassifier(classifiers=[dtclf_bestparam, gdbt_bestparam, RFclf_bestparam], meta_classifier=meta_estimator, use_probas=True, average_probas=False)\n",
    "\n",
    "stacking.fit(train_X, train_Y)\n",
    "stacking_pred = stacking.predict_proba(test_X)[:,1]\n",
    "sub = pd.DataFrame({'name': ids, 'poi': stacking_pred})\n",
    "sub.to_csv('poi_stacking.csv', index=False)"
   ]
  }
 ],
 "metadata": {
  "kernelspec": {
   "display_name": "Python 3",
   "language": "python",
   "name": "python3"
  },
  "language_info": {
   "codemirror_mode": {
    "name": "ipython",
    "version": 3
   },
   "file_extension": ".py",
   "mimetype": "text/x-python",
   "name": "python",
   "nbconvert_exporter": "python",
   "pygments_lexer": "ipython3",
   "version": "3.8.3"
  }
 },
 "nbformat": 4,
 "nbformat_minor": 4
}
